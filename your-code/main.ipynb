{
 "cells": [
  {
   "cell_type": "markdown",
   "metadata": {},
   "source": [
    "# Probability"
   ]
  },
  {
   "cell_type": "markdown",
   "metadata": {},
   "source": [
    "## Challenge 1\n",
    "There is a box with 10 white balls, 12 red balls and 8 black balls. Calculate the probability of:\n",
    "* Taking a white ball out.\n",
    "* Taking a white ball on first extraction and a black ball out on second extraction without replacing the first one.\n",
    "* Taking a white ball on first extraction and a black ball out on second extraction replacing the first one.\n",
    "* Taking 3 balls and them being all different colours."
   ]
  },
  {
   "cell_type": "code",
   "execution_count": 17,
   "metadata": {},
   "outputs": [
    {
     "data": {
      "text/plain": [
       "0.03940886699507389"
      ]
     },
     "execution_count": 17,
     "metadata": {},
     "output_type": "execute_result"
    }
   ],
   "source": [
    "\"\"\"\n",
    "your solution here\n",
    "\"\"\"\n",
    "white = 10/30\n",
    "red = 12/30\n",
    "black = 8/30\n",
    "\n",
    "#1.Taking a white ball out.\n",
    "\n",
    "first_white = 1/3\n",
    "\n",
    "#2.Taking a white ball on first extraction and a black ball out on second extraction without replacing the first one.\n",
    "\n",
    "second_black = 8/29\n",
    "\n",
    "p_second_black = 1/3 * 8/29\n",
    "p_second_black = 0.276\n",
    "\n",
    "#3.Taking a white ball on first extraction and a black ball out on second extraction replacing the first one.\n",
    "\n",
    "p_second_black_replace = 1/3 * 8/30\n",
    "p_second_black_replace = 0.089\n",
    "\n",
    "#4. Taking 3 balls and them being all different colours.\n",
    "\n",
    "p_three_different = 1/3 * 8/29 * 12/28 \n",
    "p_three_different = 0.039"
   ]
  },
  {
   "cell_type": "markdown",
   "metadata": {},
   "source": [
    "## Challenge 2\n",
    "\n",
    "You want to go on picnic on Saturday. You hate rain, and would know to plan your weekend. To help you make a decision, you gather the following data about rainy days:\n",
    "\n",
    "* 40% of all days are cloudy.\n",
    "* About 50% of cloudy days are rainy. \n",
    "* About 20% of non-cloudy days are rainy.\n",
    "\n",
    "What is the chance of rain during next Saturday?"
   ]
  },
  {
   "cell_type": "code",
   "execution_count": 19,
   "metadata": {},
   "outputs": [
    {
     "data": {
      "text/plain": [
       "0.36000000000000004"
      ]
     },
     "execution_count": 19,
     "metadata": {},
     "output_type": "execute_result"
    }
   ],
   "source": [
    "\"\"\"\n",
    "your solution here\n",
    "\"\"\"\n",
    "p_cloud_rain = 0.4 * 0.5\n",
    "\n",
    "p_n_cloud_rain = 0.6 * 0.2\n",
    "\n",
    "p_rain = p_cloud_rain + p_n_cloud_rain\n",
    "\n",
    "p_rain = (0.4*0.5) + (0.8*0.2)\n",
    "\n",
    "p_rain = 0.36"
   ]
  },
  {
   "cell_type": "markdown",
   "metadata": {},
   "source": [
    "## Challenge 3\n",
    "\n",
    "A and B are events of a probability such that $P(A) = 0.3$, $P(B) = 0.6$. Let's assume events are independant.\n",
    "Which of the following statements are true?  \n",
    "**HINT: draw a big Venn Diagram by your side**  \n",
    "\n",
    "\n",
    "* $P(\\overline{A}) = 0.7$\n",
    "* $P(\\overline{B}) = 0.4$\n",
    "----\n",
    "* $P(A \\cap B) = 0.10$\n",
    "* $P(A \\cup B) = 0.72$\n",
    "----\n",
    "* $P(A \\cap \\overline{B}) = 0.2$\n",
    "* $P(A \\cup \\overline{A}) = 1$  \n",
    "----\n",
    "* $P(A \\cap (B \\cup \\overline{B})) = 0.4$\n",
    "* $P(\\overline{A} \\cap \\overline{B}) = 0.3$\n",
    "* $P(\\overline{A \\cap B}) = 0.9$"
   ]
  },
  {
   "cell_type": "code",
   "execution_count": 21,
   "metadata": {},
   "outputs": [
    {
     "data": {
      "text/plain": [
       "'\\n𝑃(𝐴⎯)=0.7 True\\n𝑃(𝐴∪𝐵)=0.6\\n𝑃(𝐴∩𝐵⎯⎯⎯⎯)=0.2\\n𝑃(𝐴∪𝐴⎯⎯⎯⎯)=1\\n𝑃(𝐴∩(𝐵∪𝐵⎯⎯⎯⎯))=0.4\\n𝑃(𝐴⎯⎯⎯⎯∩𝐵⎯⎯⎯⎯)=0.3\\n𝑃(𝐴∩𝐵⎯⎯⎯⎯⎯⎯⎯⎯⎯⎯⎯⎯⎯⎯⎯)=0.9\\n\\n'"
      ]
     },
     "execution_count": 21,
     "metadata": {},
     "output_type": "execute_result"
    }
   ],
   "source": [
    "\"\"\"\n",
    "your solution here\n",
    "\"\"\"\n",
    "\n",
    "\"\"\"\n",
    "𝑃(𝐴)=0.3\n",
    "𝑃(𝐵)=0.6\n",
    "𝑃(𝐴∩𝐵)=0.1 \"\"\"\n",
    "\n",
    "# They are not independant\n",
    "\n",
    "\"\"\"\n",
    "𝑃(𝐴⎯)=0.7 True\n",
    "𝑃(𝐴∪𝐵)=0.6\n",
    "𝑃(𝐴∩𝐵⎯)=0.2\n",
    "𝑃(𝐴∪𝐴⎯)=1\n",
    "𝑃(𝐴∩(𝐵∪𝐵⎯))=0.4\n",
    "𝑃(𝐴⎯⎯⎯⎯∩𝐵⎯⎯⎯⎯)=0.3\n",
    "𝑃(𝐴⎯∩𝐵⎯)=0.9\n",
    "\n",
    "\"\"\"\n",
    "\n",
    "# 1. 𝑃(𝐴⎯) = 1 - 𝑃(𝐴) = 1 - 0.3 = 0.7 TRUE\n",
    "\n",
    "# 2. 𝑃(𝐴∪𝐵) = 𝑃(𝐴) + P(B)= 0.3 + 0.6 = 0.9 FALSE\n",
    "\n",
    "# 3. 𝑃(𝐴∩𝐵⎯)= P(A) * P(B-) = 0.3 * 0.4 = 0.12 FALSE\n",
    "\n",
    "# 4. 𝑃(𝐴∪𝐴⎯)= P(A) + P(A-) = 0.3 + 0.7 = 1 TRUE\n",
    "\n",
    "# 5. 𝑃(𝐴∩(𝐵∪𝐵⎯)) = 0.3 * (0.6 + 0.4) = 0.3 FALSE\n",
    "\n",
    "# 6. 𝑃(𝐴⎯⎯∩𝐵⎯⎯)= 0.7 * 0.4 = 0.28 FALSE\n",
    "\n",
    "# 7. 𝑃(𝐴⎯∩𝐵⎯) = 0.7 FALSE\n"
   ]
  },
  {
   "cell_type": "markdown",
   "metadata": {},
   "source": [
    "## Challenge 4\n",
    "\n",
    " * If someone flies to China, the probability of getting Covid is 1%  \n",
    " * If someone flies to Italy, the probability of getting Covid is 20%  \n",
    "\n",
    "I roll 1 dice with numbers 1, 2, 3, 4, 5, 6:  \n",
    " * If 1: I fly to Italy\n",
    " * If not 1: I fly to China\n",
    "\n",
    "During my trip, I got Covid. What is the probability that I flew to China?"
   ]
  },
  {
   "cell_type": "code",
   "execution_count": null,
   "metadata": {},
   "outputs": [],
   "source": [
    "# your code here"
   ]
  },
  {
   "cell_type": "code",
   "execution_count": 35,
   "metadata": {},
   "outputs": [
    {
     "data": {
      "text/plain": [
       "0.2"
      ]
     },
     "execution_count": 35,
     "metadata": {},
     "output_type": "execute_result"
    }
   ],
   "source": [
    "\"\"\"\n",
    "your solution here\n",
    "\"\"\"\n",
    "p_china = 5/6\n",
    "\n",
    "p_covid = 5/6 * 1/100 + 1/16 * 20/100\n",
    "\n",
    "p_china_knowing_covid = (p_covid_knowing_china * p_covid) / p_covid\n",
    "\n",
    "# p_china_knowing_covid = (5/6 * 1/100) / (25/600) = (5/6) * (1/100) * (600/25)\n",
    "\n",
    "p_china_knowing_covid = (5/6) * (1/100) * (600/25)\n",
    "\n",
    "p_china_knowing_covid = 5/6 * 24/25 = 5/5 * 4/5 = 4/6 = 2/3\n",
    "\n",
    "p_china_knowing_covid = 66.67%\n"
   ]
  },
  {
   "cell_type": "markdown",
   "metadata": {},
   "source": [
    "## BONUS\n",
    "\n",
    "You roll 2 dice. What is the probability that the sum of the numbers is 7? And 8? And 9? Then simulate 10000 times and draw a countplot."
   ]
  },
  {
   "cell_type": "markdown",
   "metadata": {},
   "source": [
    "your explanation here"
   ]
  },
  {
   "cell_type": "code",
   "execution_count": null,
   "metadata": {},
   "outputs": [],
   "source": [
    "# your code here"
   ]
  },
  {
   "cell_type": "code",
   "execution_count": null,
   "metadata": {},
   "outputs": [],
   "source": [
    "\"\"\"\n",
    "your solution here\n",
    "\"\"\""
   ]
  }
 ],
 "metadata": {
  "kernelspec": {
   "display_name": "Python 3 (ipykernel)",
   "language": "python",
   "name": "python3"
  },
  "language_info": {
   "codemirror_mode": {
    "name": "ipython",
    "version": 3
   },
   "file_extension": ".py",
   "mimetype": "text/x-python",
   "name": "python",
   "nbconvert_exporter": "python",
   "pygments_lexer": "ipython3",
   "version": "3.11.5"
  },
  "nbTranslate": {
   "displayLangs": [
    "en",
    "es"
   ],
   "hotkey": "alt-a",
   "langInMainMenu": true,
   "sourceLang": "es",
   "targetLang": "en",
   "useGoogleTranslate": true
  },
  "toc": {
   "base_numbering": 1,
   "nav_menu": {},
   "number_sections": false,
   "sideBar": true,
   "skip_h1_title": false,
   "title_cell": "Table of Contents",
   "title_sidebar": "Contents",
   "toc_cell": false,
   "toc_position": {
    "height": "calc(100% - 180px)",
    "left": "10px",
    "top": "150px",
    "width": "296.475px"
   },
   "toc_section_display": true,
   "toc_window_display": false
  },
  "varInspector": {
   "cols": {
    "lenName": 16,
    "lenType": 16,
    "lenVar": 40
   },
   "kernels_config": {
    "python": {
     "delete_cmd_postfix": "",
     "delete_cmd_prefix": "del ",
     "library": "var_list.py",
     "varRefreshCmd": "print(var_dic_list())"
    },
    "r": {
     "delete_cmd_postfix": ") ",
     "delete_cmd_prefix": "rm(",
     "library": "var_list.r",
     "varRefreshCmd": "cat(var_dic_list()) "
    }
   },
   "types_to_exclude": [
    "module",
    "function",
    "builtin_function_or_method",
    "instance",
    "_Feature"
   ],
   "window_display": false
  }
 },
 "nbformat": 4,
 "nbformat_minor": 2
}
