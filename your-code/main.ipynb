{
 "cells": [
  {
   "cell_type": "markdown",
   "metadata": {},
   "source": [
    "# Probability"
   ]
  },
  {
   "cell_type": "markdown",
   "metadata": {},
   "source": [
    "## Challenge 1\n",
    "There is a box with 10 white balls, 12 red balls and 8 black balls. Calculate the probability of:\n",
    "* Taking a white ball out.\n",
    "* Taking a white ball on first extraction and a black ball out on second extraction without replacing the first one.\n",
    "* Taking a white ball on first extraction and a black ball out on second extraction replacing the first one.\n",
    "* Taking 3 balls and them being all different colours."
   ]
  },
  {
   "cell_type": "code",
   "execution_count": 5,
   "metadata": {},
   "outputs": [
    {
     "data": {
      "text/plain": [
       "0.3333333333333333"
      ]
     },
     "execution_count": 5,
     "metadata": {},
     "output_type": "execute_result"
    }
   ],
   "source": [
    "t=total_balls=30\n",
    "w=white_balls=10\n",
    "r=red_balls=12\n",
    "b=black_balls=8\n",
    "\n",
    "#Probability of take a white ball\n",
    "w/t"
   ]
  },
  {
   "cell_type": "code",
   "execution_count": 6,
   "metadata": {},
   "outputs": [
    {
     "data": {
      "text/plain": [
       "0.09195402298850575"
      ]
     },
     "execution_count": 6,
     "metadata": {},
     "output_type": "execute_result"
    }
   ],
   "source": [
    "#Extract a white ball and then extract a black one (without replacing)\n",
    "\n",
    "(w/t)*(b/(t-1))"
   ]
  },
  {
   "cell_type": "code",
   "execution_count": 7,
   "metadata": {},
   "outputs": [
    {
     "data": {
      "text/plain": [
       "0.08888888888888888"
      ]
     },
     "execution_count": 7,
     "metadata": {},
     "output_type": "execute_result"
    }
   ],
   "source": [
    "#Extract a white ball and then extract a black one (replacing)\n",
    "\n",
    "(w/t)*(b/t)"
   ]
  },
  {
   "cell_type": "code",
   "execution_count": 13,
   "metadata": {},
   "outputs": [
    {
     "data": {
      "text/plain": [
       "0.0394088669950739"
      ]
     },
     "execution_count": 13,
     "metadata": {},
     "output_type": "execute_result"
    }
   ],
   "source": [
    "#3different colors after 3 extractions\n",
    "#6 possible combinations(3!). We have 3 elements (red, black and white)\n",
    "(r/t)*(w/(t-1))*(b/(t-2))\n",
    "\n",
    "#the results of every commutation are the same, due to commutative property of the multiplication"
   ]
  },
  {
   "cell_type": "markdown",
   "metadata": {},
   "source": [
    "## Challenge 2\n",
    "\n",
    "You want to go on picnic on Saturday. You hate rain, and would know to plan your weekend. To help you make a decision, you gather the following data about rainy days:\n",
    "\n",
    "* 40% of all days are cloudy.\n",
    "* About 50% of cloudy days are rainy. \n",
    "* About 20% of non-cloudy days are rainy.\n",
    "\n",
    "What is the chance of rain during next Saturday?"
   ]
  },
  {
   "cell_type": "code",
   "execution_count": 14,
   "metadata": {},
   "outputs": [
    {
     "data": {
      "text/plain": [
       "0.32"
      ]
     },
     "execution_count": 14,
     "metadata": {},
     "output_type": "execute_result"
    }
   ],
   "source": [
    "p_cloudy=0.4\n",
    "p_not_cloudy=0.6\n",
    "\n",
    "p_cloudy_rainy=0.5\n",
    "p_cloudy_not_rainy=0.5\n",
    "\n",
    "p_not_cloudy_rainy=0.2\n",
    "p_not_cloudy_not_rainy=0.8\n",
    "\n",
    "#Probability that it rains\n",
    "\n",
    "Probability_of_rain=(p_cloudy*p_cloudy_rainy)+(p_not_cloudy*p_not_cloudy_rainy)\n",
    "Probability_of_rain"
   ]
  },
  {
   "cell_type": "markdown",
   "metadata": {},
   "source": [
    "## Challenge 3\n",
    "\n",
    "A and B are events of a probability such that $P(A) = 0.3$, $P(B) = 0.6$ and $P(A \\cap B) = 0.1$\n",
    "\n",
    "Which of the following statements are true?  Let's assume events are independant.\n",
    "**HINT: draw a big Venn Diagram by your side**  \n",
    "* $P(\\overline{A}) = 0.7$\n",
    "* $P(A \\cup B) = 0.6$\n",
    "* $P(A \\cap \\overline{B}) = 0.2$\n",
    "* $P(A \\cup \\overline{A}) = 1$  \n",
    "* $P(A \\cap (B \\cup \\overline{B})) = 0.4$\n",
    "* $P(\\overline{A} \\cap \\overline{B}) = 0.3$\n",
    "* $P(\\overline{A \\cap B}) = 0.9$"
   ]
  },
  {
   "cell_type": "code",
   "execution_count": null,
   "metadata": {},
   "outputs": [],
   "source": [
    "#1st=\"True\"\n",
    "#2nd=\"False\"\n",
    "#3rd=\"False\"\n",
    "#4th=\"True\"\n",
    "#5th=\"False\"\n",
    "#6th=\"False\"\n",
    "#7th=\"True\""
   ]
  },
  {
   "cell_type": "markdown",
   "metadata": {},
   "source": [
    "## Challenge 4\n",
    "\n",
    " * If someone flies to China, the probability of getting Covid is 1%  \n",
    " * If someone flies to Italy, the probability of getting Covid is 20%  \n",
    "\n",
    "I roll 1 dice with numbers 1, 2, 3, 4, 5, 6:  \n",
    " * If 1: I fly to Italy\n",
    " * If not 1: I fly to China\n",
    "\n",
    "During my trip, I got Covid. What is the probability that I flew to China?"
   ]
  },
  {
   "cell_type": "code",
   "execution_count": 16,
   "metadata": {},
   "outputs": [
    {
     "data": {
      "text/plain": [
       "0.041666666666666664"
      ]
     },
     "execution_count": 16,
     "metadata": {},
     "output_type": "execute_result"
    }
   ],
   "source": [
    "p_cov_italy=0.2\n",
    "p_cov_china=0.01\n",
    "\n",
    "p_travel_italy=(1/6)\n",
    "p_travel_china=(5/6)\n",
    "\n",
    "p_get_covid=(p_travel_italy*p_cov_italy)+(p_travel_china*p_cov_china)\n",
    "p_get_covid"
   ]
  },
  {
   "cell_type": "code",
   "execution_count": 17,
   "metadata": {},
   "outputs": [
    {
     "data": {
      "text/plain": [
       "0.24000000000000002"
      ]
     },
     "execution_count": 17,
     "metadata": {},
     "output_type": "execute_result"
    }
   ],
   "source": [
    "P_get_covid_china=(p_cov_china/p_get_covid)\n",
    "P_get_covid_china"
   ]
  },
  {
   "cell_type": "markdown",
   "metadata": {},
   "source": [
    "## BONUS\n",
    "\n",
    "You roll 2 dice. What is the probability that the sum of the numbers is 7? And 8? And 9? Then simulate 10000 times and draw a countplot."
   ]
  },
  {
   "cell_type": "markdown",
   "metadata": {},
   "source": [
    "your explanation here"
   ]
  },
  {
   "cell_type": "code",
   "execution_count": null,
   "metadata": {},
   "outputs": [],
   "source": [
    "# your code here"
   ]
  },
  {
   "cell_type": "code",
   "execution_count": null,
   "metadata": {},
   "outputs": [],
   "source": [
    "\"\"\"\n",
    "your solution here\n",
    "\"\"\""
   ]
  }
 ],
 "metadata": {
  "kernelspec": {
   "display_name": "Python 3 (ipykernel)",
   "language": "python",
   "name": "python3"
  },
  "language_info": {
   "codemirror_mode": {
    "name": "ipython",
    "version": 3
   },
   "file_extension": ".py",
   "mimetype": "text/x-python",
   "name": "python",
   "nbconvert_exporter": "python",
   "pygments_lexer": "ipython3",
   "version": "3.11.5"
  },
  "nbTranslate": {
   "displayLangs": [
    "en",
    "es"
   ],
   "hotkey": "alt-a",
   "langInMainMenu": true,
   "sourceLang": "es",
   "targetLang": "en",
   "useGoogleTranslate": true
  },
  "toc": {
   "base_numbering": 1,
   "nav_menu": {},
   "number_sections": false,
   "sideBar": true,
   "skip_h1_title": false,
   "title_cell": "Table of Contents",
   "title_sidebar": "Contents",
   "toc_cell": false,
   "toc_position": {
    "height": "calc(100% - 180px)",
    "left": "10px",
    "top": "150px",
    "width": "296.475px"
   },
   "toc_section_display": true,
   "toc_window_display": false
  },
  "varInspector": {
   "cols": {
    "lenName": 16,
    "lenType": 16,
    "lenVar": 40
   },
   "kernels_config": {
    "python": {
     "delete_cmd_postfix": "",
     "delete_cmd_prefix": "del ",
     "library": "var_list.py",
     "varRefreshCmd": "print(var_dic_list())"
    },
    "r": {
     "delete_cmd_postfix": ") ",
     "delete_cmd_prefix": "rm(",
     "library": "var_list.r",
     "varRefreshCmd": "cat(var_dic_list()) "
    }
   },
   "types_to_exclude": [
    "module",
    "function",
    "builtin_function_or_method",
    "instance",
    "_Feature"
   ],
   "window_display": false
  }
 },
 "nbformat": 4,
 "nbformat_minor": 2
}
